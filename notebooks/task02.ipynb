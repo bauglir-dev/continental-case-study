{
 "cells": [
  {
   "cell_type": "code",
   "execution_count": 1,
   "metadata": {},
   "outputs": [],
   "source": [
    "import pandas as pd\n",
    "import matplotlib.pyplot as plt\n",
    "\n",
    "# show more columns\n",
    "pd.options.display.max_columns = 500\n",
    "\n",
    "# show the large integer as a regular number\n",
    "pd.options.display.float_format = '{:.0f}'.format"
   ]
  },
  {
   "attachments": {},
   "cell_type": "markdown",
   "metadata": {},
   "source": [
    "### Read data"
   ]
  },
  {
   "cell_type": "code",
   "execution_count": 23,
   "metadata": {},
   "outputs": [
    {
     "name": "stdout",
     "output_type": "stream",
     "text": [
      "(22571706, 11)\n"
     ]
    },
    {
     "data": {
      "text/html": [
       "<div>\n",
       "<style scoped>\n",
       "    .dataframe tbody tr th:only-of-type {\n",
       "        vertical-align: middle;\n",
       "    }\n",
       "\n",
       "    .dataframe tbody tr th {\n",
       "        vertical-align: top;\n",
       "    }\n",
       "\n",
       "    .dataframe thead th {\n",
       "        text-align: right;\n",
       "    }\n",
       "</style>\n",
       "<table border=\"1\" class=\"dataframe\">\n",
       "  <thead>\n",
       "    <tr style=\"text-align: right;\">\n",
       "      <th></th>\n",
       "      <th>loggerno</th>\n",
       "      <th>tireid</th>\n",
       "      <th>created_at</th>\n",
       "      <th>temp_outside</th>\n",
       "      <th>tachometer_km</th>\n",
       "      <th>speed</th>\n",
       "      <th>ts</th>\n",
       "      <th>ts_int</th>\n",
       "      <th>parameter</th>\n",
       "      <th>wheelpos</th>\n",
       "      <th>value</th>\n",
       "    </tr>\n",
       "  </thead>\n",
       "  <tbody>\n",
       "    <tr>\n",
       "      <th>0</th>\n",
       "      <td>8750076</td>\n",
       "      <td>173553</td>\n",
       "      <td>2021-12-01</td>\n",
       "      <td>NaN</td>\n",
       "      <td>14581</td>\n",
       "      <td>0</td>\n",
       "      <td>2021-12-01 05:16:11</td>\n",
       "      <td>1638335771000000</td>\n",
       "      <td>wheelspeed</td>\n",
       "      <td>2R</td>\n",
       "      <td>0</td>\n",
       "    </tr>\n",
       "    <tr>\n",
       "      <th>1</th>\n",
       "      <td>8750076</td>\n",
       "      <td>173553</td>\n",
       "      <td>2021-12-01</td>\n",
       "      <td>3</td>\n",
       "      <td>14581</td>\n",
       "      <td>0</td>\n",
       "      <td>2021-12-01 05:16:13</td>\n",
       "      <td>1638335773000000</td>\n",
       "      <td>wheelspeed</td>\n",
       "      <td>2R</td>\n",
       "      <td>0</td>\n",
       "    </tr>\n",
       "    <tr>\n",
       "      <th>2</th>\n",
       "      <td>8750076</td>\n",
       "      <td>173553</td>\n",
       "      <td>2021-12-01</td>\n",
       "      <td>3</td>\n",
       "      <td>14581</td>\n",
       "      <td>0</td>\n",
       "      <td>2021-12-01 05:16:14</td>\n",
       "      <td>1638335774000000</td>\n",
       "      <td>wheelspeed</td>\n",
       "      <td>2R</td>\n",
       "      <td>0</td>\n",
       "    </tr>\n",
       "    <tr>\n",
       "      <th>3</th>\n",
       "      <td>8750076</td>\n",
       "      <td>173553</td>\n",
       "      <td>2021-12-01</td>\n",
       "      <td>3</td>\n",
       "      <td>14581</td>\n",
       "      <td>0</td>\n",
       "      <td>2021-12-01 05:16:16</td>\n",
       "      <td>1638335776000000</td>\n",
       "      <td>wheelspeed</td>\n",
       "      <td>2R</td>\n",
       "      <td>0</td>\n",
       "    </tr>\n",
       "    <tr>\n",
       "      <th>4</th>\n",
       "      <td>8750076</td>\n",
       "      <td>173553</td>\n",
       "      <td>2021-12-01</td>\n",
       "      <td>3</td>\n",
       "      <td>14581</td>\n",
       "      <td>0</td>\n",
       "      <td>2021-12-01 05:16:17</td>\n",
       "      <td>1638335777000000</td>\n",
       "      <td>wheelspeed</td>\n",
       "      <td>2R</td>\n",
       "      <td>0</td>\n",
       "    </tr>\n",
       "  </tbody>\n",
       "</table>\n",
       "</div>"
      ],
      "text/plain": [
       "   loggerno  tireid created_at  temp_outside  tachometer_km  speed   \n",
       "0   8750076  173553 2021-12-01           NaN          14581      0  \\\n",
       "1   8750076  173553 2021-12-01             3          14581      0   \n",
       "2   8750076  173553 2021-12-01             3          14581      0   \n",
       "3   8750076  173553 2021-12-01             3          14581      0   \n",
       "4   8750076  173553 2021-12-01             3          14581      0   \n",
       "\n",
       "                   ts           ts_int   parameter wheelpos  value  \n",
       "0 2021-12-01 05:16:11 1638335771000000  wheelspeed       2R      0  \n",
       "1 2021-12-01 05:16:13 1638335773000000  wheelspeed       2R      0  \n",
       "2 2021-12-01 05:16:14 1638335774000000  wheelspeed       2R      0  \n",
       "3 2021-12-01 05:16:16 1638335776000000  wheelspeed       2R      0  \n",
       "4 2021-12-01 05:16:17 1638335777000000  wheelspeed       2R      0  "
      ]
     },
     "execution_count": 23,
     "metadata": {},
     "output_type": "execute_result"
    }
   ],
   "source": [
    "vehicle_data = pd.read_parquet(path='../data/task01.parquet')\n",
    "print(vehicle_data.shape)\n",
    "vehicle_data.head(5)"
   ]
  },
  {
   "cell_type": "code",
   "execution_count": 4,
   "metadata": {},
   "outputs": [
    {
     "data": {
      "text/plain": [
       "array(['wheelspeed', 'tiretemperature', 'tirepressure'], dtype=object)"
      ]
     },
     "execution_count": 4,
     "metadata": {},
     "output_type": "execute_result"
    }
   ],
   "source": [
    "vehicle_data.parameter.unique()"
   ]
  },
  {
   "attachments": {},
   "cell_type": "markdown",
   "metadata": {},
   "source": [
    "### Pivot"
   ]
  },
  {
   "cell_type": "code",
   "execution_count": 5,
   "metadata": {},
   "outputs": [],
   "source": [
    "vehicle_data = vehicle_data.drop_duplicates(\n",
    "    subset=[\n",
    "        'loggerno', \n",
    "        'tireid',\n",
    "        'created_at', \n",
    "        'temp_outside', \n",
    "        'tachometer_km', \n",
    "        'speed', \n",
    "        'ts', \n",
    "        'ts_int', \n",
    "        'wheelpos',\n",
    "        'parameter'\n",
    "    ]\n",
    ")\n",
    "\n",
    "vehicle_data = vehicle_data.pivot(\n",
    "    index=[\n",
    "        'loggerno',\n",
    "        'tireid',\n",
    "        'created_at', \n",
    "        'temp_outside', \n",
    "        'tachometer_km', \n",
    "        'speed', \n",
    "        'ts', \n",
    "        'ts_int', \n",
    "        'wheelpos'\n",
    "    ], \n",
    "    columns='parameter', \n",
    "    values='value')\n"
   ]
  },
  {
   "cell_type": "code",
   "execution_count": 22,
   "metadata": {},
   "outputs": [
    {
     "data": {
      "text/html": [
       "<div>\n",
       "<style scoped>\n",
       "    .dataframe tbody tr th:only-of-type {\n",
       "        vertical-align: middle;\n",
       "    }\n",
       "\n",
       "    .dataframe tbody tr th {\n",
       "        vertical-align: top;\n",
       "    }\n",
       "\n",
       "    .dataframe thead th {\n",
       "        text-align: right;\n",
       "    }\n",
       "</style>\n",
       "<table border=\"1\" class=\"dataframe\">\n",
       "  <thead>\n",
       "    <tr style=\"text-align: right;\">\n",
       "      <th>parameter</th>\n",
       "      <th>index</th>\n",
       "      <th>loggerno</th>\n",
       "      <th>tireid</th>\n",
       "      <th>temp_outside</th>\n",
       "      <th>ts</th>\n",
       "      <th>ts_int</th>\n",
       "      <th>wheelpos</th>\n",
       "      <th>tirepressure</th>\n",
       "      <th>tiretemperature</th>\n",
       "    </tr>\n",
       "  </thead>\n",
       "  <tbody>\n",
       "    <tr>\n",
       "      <th>0</th>\n",
       "      <td>0</td>\n",
       "      <td>8750061</td>\n",
       "      <td>167118</td>\n",
       "      <td>NaN</td>\n",
       "      <td>2021-12-05 13:58:28</td>\n",
       "      <td>1638712708000000</td>\n",
       "      <td>2R</td>\n",
       "      <td>2</td>\n",
       "      <td>5</td>\n",
       "    </tr>\n",
       "    <tr>\n",
       "      <th>1</th>\n",
       "      <td>1</td>\n",
       "      <td>8750061</td>\n",
       "      <td>167118</td>\n",
       "      <td>NaN</td>\n",
       "      <td>2021-12-05 13:58:29</td>\n",
       "      <td>1638712709000000</td>\n",
       "      <td>2R</td>\n",
       "      <td>6</td>\n",
       "      <td>127</td>\n",
       "    </tr>\n",
       "    <tr>\n",
       "      <th>2</th>\n",
       "      <td>2</td>\n",
       "      <td>8750061</td>\n",
       "      <td>167118</td>\n",
       "      <td>NaN</td>\n",
       "      <td>2021-12-09 18:35:04</td>\n",
       "      <td>1639074904000000</td>\n",
       "      <td>2R</td>\n",
       "      <td>2</td>\n",
       "      <td>6</td>\n",
       "    </tr>\n",
       "  </tbody>\n",
       "</table>\n",
       "</div>"
      ],
      "text/plain": [
       "parameter  index  loggerno  tireid  temp_outside                  ts   \n",
       "0              0   8750061  167118           NaN 2021-12-05 13:58:28  \\\n",
       "1              1   8750061  167118           NaN 2021-12-05 13:58:29   \n",
       "2              2   8750061  167118           NaN 2021-12-09 18:35:04   \n",
       "\n",
       "parameter           ts_int wheelpos  tirepressure  tiretemperature  \n",
       "0         1638712708000000       2R             2                5  \n",
       "1         1638712709000000       2R             6              127  \n",
       "2         1639074904000000       2R             2                6  "
      ]
     },
     "execution_count": 22,
     "metadata": {},
     "output_type": "execute_result"
    }
   ],
   "source": [
    "vehicle_data = vehicle_data.reset_index()\n",
    "vehicle_data.head(3)"
   ]
  },
  {
   "attachments": {},
   "cell_type": "markdown",
   "metadata": {},
   "source": [
    "### Drop column"
   ]
  },
  {
   "cell_type": "code",
   "execution_count": 14,
   "metadata": {},
   "outputs": [
    {
     "data": {
      "text/plain": [
       "(7500336, 8)"
      ]
     },
     "execution_count": 14,
     "metadata": {},
     "output_type": "execute_result"
    }
   ],
   "source": [
    "vehicle_data.drop(columns=['tachometer_km', 'created_at', 'speed', 'wheelspeed'], inplace=True)\n",
    "vehicle_data.shape"
   ]
  },
  {
   "cell_type": "code",
   "execution_count": 21,
   "metadata": {},
   "outputs": [
    {
     "data": {
      "text/html": [
       "<div>\n",
       "<style scoped>\n",
       "    .dataframe tbody tr th:only-of-type {\n",
       "        vertical-align: middle;\n",
       "    }\n",
       "\n",
       "    .dataframe tbody tr th {\n",
       "        vertical-align: top;\n",
       "    }\n",
       "\n",
       "    .dataframe thead th {\n",
       "        text-align: right;\n",
       "    }\n",
       "</style>\n",
       "<table border=\"1\" class=\"dataframe\">\n",
       "  <thead>\n",
       "    <tr style=\"text-align: right;\">\n",
       "      <th>parameter</th>\n",
       "      <th>loggerno</th>\n",
       "      <th>tireid</th>\n",
       "      <th>temp_outside</th>\n",
       "      <th>ts</th>\n",
       "      <th>ts_int</th>\n",
       "      <th>wheelpos</th>\n",
       "      <th>tirepressure</th>\n",
       "      <th>tiretemperature</th>\n",
       "    </tr>\n",
       "  </thead>\n",
       "  <tbody>\n",
       "    <tr>\n",
       "      <th>0</th>\n",
       "      <td>8750061</td>\n",
       "      <td>167118</td>\n",
       "      <td>NaN</td>\n",
       "      <td>2021-12-05 13:58:28</td>\n",
       "      <td>1638712708000000</td>\n",
       "      <td>2R</td>\n",
       "      <td>2</td>\n",
       "      <td>5</td>\n",
       "    </tr>\n",
       "    <tr>\n",
       "      <th>1</th>\n",
       "      <td>8750061</td>\n",
       "      <td>167118</td>\n",
       "      <td>NaN</td>\n",
       "      <td>2021-12-05 13:58:29</td>\n",
       "      <td>1638712709000000</td>\n",
       "      <td>2R</td>\n",
       "      <td>6</td>\n",
       "      <td>127</td>\n",
       "    </tr>\n",
       "    <tr>\n",
       "      <th>2</th>\n",
       "      <td>8750061</td>\n",
       "      <td>167118</td>\n",
       "      <td>NaN</td>\n",
       "      <td>2021-12-09 18:35:04</td>\n",
       "      <td>1639074904000000</td>\n",
       "      <td>2R</td>\n",
       "      <td>2</td>\n",
       "      <td>6</td>\n",
       "    </tr>\n",
       "  </tbody>\n",
       "</table>\n",
       "</div>"
      ],
      "text/plain": [
       "parameter  loggerno  tireid  temp_outside                  ts   \n",
       "0           8750061  167118           NaN 2021-12-05 13:58:28  \\\n",
       "1           8750061  167118           NaN 2021-12-05 13:58:29   \n",
       "2           8750061  167118           NaN 2021-12-09 18:35:04   \n",
       "\n",
       "parameter           ts_int wheelpos  tirepressure  tiretemperature  \n",
       "0         1638712708000000       2R             2                5  \n",
       "1         1638712709000000       2R             6              127  \n",
       "2         1639074904000000       2R             2                6  "
      ]
     },
     "execution_count": 21,
     "metadata": {},
     "output_type": "execute_result"
    }
   ],
   "source": [
    "vehicle_data.head(3)\n"
   ]
  },
  {
   "attachments": {},
   "cell_type": "markdown",
   "metadata": {},
   "source": [
    "### Write data"
   ]
  },
  {
   "cell_type": "code",
   "execution_count": 16,
   "metadata": {},
   "outputs": [],
   "source": [
    "vehicle_data.to_parquet(path='../data/task02.parquet')"
   ]
  }
 ],
 "metadata": {
  "interpreter": {
   "hash": "89019674b381b52530fe3c3ba80a8d0cb6c8575fcdaeb726f9adff05da2470f6"
  },
  "kernelspec": {
   "display_name": "Python 3.10.4 64-bit ('continental-case-study')",
   "language": "python",
   "name": "python3"
  },
  "language_info": {
   "codemirror_mode": {
    "name": "ipython",
    "version": 3
   },
   "file_extension": ".py",
   "mimetype": "text/x-python",
   "name": "python",
   "nbconvert_exporter": "python",
   "pygments_lexer": "ipython3",
   "version": "3.10.4"
  },
  "orig_nbformat": 4
 },
 "nbformat": 4,
 "nbformat_minor": 2
}
