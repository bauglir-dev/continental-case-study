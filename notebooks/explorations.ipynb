{
 "cells": [
  {
   "cell_type": "code",
   "execution_count": null,
   "metadata": {},
   "outputs": [],
   "source": [
    "import glob\n",
    "\n",
    "import pandas as pd\n",
    "\n",
    "# show more columns\n",
    "pd.options.display.max_columns = 500\n",
    "\n",
    "# show the large integer as a regular number\n",
    "pd.options.display.float_format = '{:.0f}'.format"
   ]
  },
  {
   "cell_type": "code",
   "execution_count": null,
   "metadata": {},
   "outputs": [],
   "source": [
    "file_list = glob.glob(\"../data/*.parquet\")\n",
    "dfs = []\n",
    "\n",
    "for file in file_list:\n",
    "    df = pd.read_parquet(path=file)\n",
    "    df['file'] = file\n",
    "    dfs.append(df)\n",
    "\n",
    "vehicles_data = pd.concat(dfs)"
   ]
  },
  {
   "cell_type": "code",
   "execution_count": null,
   "metadata": {},
   "outputs": [],
   "source": [
    "logger_operations = pd.read_csv(filepath_or_buffer=\"../data/tires_vehicle_logger_operations.csv\", sep=\",\")"
   ]
  },
  {
   "cell_type": "markdown",
   "metadata": {},
   "source": [
    "## Task No. 0: Exploration"
   ]
  },
  {
   "cell_type": "markdown",
   "metadata": {},
   "source": [
    "### Tires Vehicle Logger Operations"
   ]
  },
  {
   "cell_type": "code",
   "execution_count": null,
   "metadata": {},
   "outputs": [],
   "source": [
    "display(logger_operations.info())\n",
    "display(logger_operations.head(5))\n",
    "display(logger_operations.tail(5))"
   ]
  },
  {
   "cell_type": "code",
   "execution_count": null,
   "metadata": {},
   "outputs": [],
   "source": [
    "print(logger_operations.vehicle_licence_plate.nunique())\n",
    "print(logger_operations.tireid.nunique())\n",
    "print(logger_operations.loggerno.nunique())"
   ]
  },
  {
   "cell_type": "code",
   "execution_count": null,
   "metadata": {},
   "outputs": [],
   "source": [
    "##8750061 8750076\n",
    "##CU33706 DB30900\n",
    "operational_data = logger_operations.loc[logger_operations['loggerno'].isin([8750061, 8750076]), :]\n",
    "#operational_data = logger_operations.loc[logger_operations['vehicle_licence_plate'].isin(['CU33706', 'DB30900']), :]\n",
    "operational_data.groupby(by=['loggerno', 'vehicle_licence_plate', 'tireid', 'wheelpos']).count()"
   ]
  },
  {
   "cell_type": "markdown",
   "metadata": {},
   "source": [
    "### Vehicles data"
   ]
  },
  {
   "cell_type": "code",
   "execution_count": null,
   "metadata": {},
   "outputs": [],
   "source": [
    "display(vehicles_data.info())\n",
    "display(vehicles_data.head(5))\n",
    "display(vehicles_data.tail(5))"
   ]
  },
  {
   "cell_type": "code",
   "execution_count": null,
   "metadata": {},
   "outputs": [],
   "source": [
    "vehicles_data.describe()"
   ]
  },
  {
   "cell_type": "code",
   "execution_count": null,
   "metadata": {},
   "outputs": [],
   "source": [
    "print(vehicles_data.loggerno.unique())"
   ]
  },
  {
   "cell_type": "markdown",
   "metadata": {},
   "source": [
    "## Task No. 1: Understandable table and views\n",
    "\n",
    "### Splitting the file column to get the logger ID."
   ]
  },
  {
   "cell_type": "code",
   "execution_count": null,
   "metadata": {},
   "outputs": [],
   "source": [
    "vehicles_data[['vin', 'loggerno', 'created_at', 'suffix']] = vehicles_data['file'].str.split('_', expand=True)\n",
    "vehicles_data.drop(columns=['file', 'suffix'], inplace=True)\n",
    "vehicles_data['vin'] = vehicles_data['vin'].str.replace(pat='^\\./data/', repl='', regex=True)\n",
    "vehicles_data['loggerno'] = vehicles_data['loggerno'].str.lstrip('0').astype(int)\n",
    "vehicles_data['created_at'] = pd.to_datetime(vehicles_data['created_at'], format='%Y%m')\n",
    "\n",
    "# drop unnecesary columns\n",
    "if vehicles_data['ts'].equals(vehicles_data['ts_sec']):\n",
    "    vehicles_data.drop(columns=['ts_sec'], inplace=True)\n",
    "vehicles_data.drop(columns=['gps_long', 'gps_lat', 'alt', 'steeringwheel_angle', 'highres', 'vin'], inplace=True)\n",
    "\n",
    "vehicles_data.head(3)\n"
   ]
  },
  {
   "cell_type": "markdown",
   "metadata": {},
   "source": [
    "### Unpivoting the vehicle data"
   ]
  },
  {
   "cell_type": "code",
   "execution_count": null,
   "metadata": {},
   "outputs": [],
   "source": [
    "def translate_wheel_position(wheel_position):\n",
    "    translated_wheel_position = ''\n",
    "    if wheel_position[0] == 'f':\n",
    "        translated_wheel_position = '1' + wheel_position[1]\n",
    "    else:\n",
    "        translated_wheel_position = '2' + wheel_position[1]\n",
    "    return translated_wheel_position.upper()"
   ]
  },
  {
   "cell_type": "code",
   "execution_count": null,
   "metadata": {},
   "outputs": [],
   "source": [
    "up_vehicle_data = vehicles_data.melt(\n",
    "    id_vars=['loggerno', 'created_at', 'temp_outside', 'tachometer_km', 'speed', 'ts', 'ts_int'], \n",
    "    var_name='variable', \n",
    "    value_name='value')\n",
    "\n",
    "up_vehicle_data[['parameter', 'wheelpos']] = up_vehicle_data['variable'].str.split('_', expand=True)\n",
    "up_vehicle_data.drop('variable', axis=1, inplace=True)\n",
    "\n",
    "up_vehicle_data['wheelpos'] = up_vehicle_data['wheelpos'].apply(translate_wheel_position)\n",
    "\n",
    "# add the value column to the end of the DataFrame\n",
    "value_column = up_vehicle_data.pop('value')\n",
    "up_vehicle_data = up_vehicle_data.assign(value=value_column)\n",
    "\n",
    "up_vehicle_data.head(20)"
   ]
  },
  {
   "cell_type": "code",
   "execution_count": null,
   "metadata": {},
   "outputs": [],
   "source": [
    "# (13544760, 10) -> (13513272, 10)\n",
    "up_vehicle_data.drop_duplicates().to_parquet('../data/up_vehicle_data.parquet')"
   ]
  },
  {
   "cell_type": "code",
   "execution_count": null,
   "metadata": {},
   "outputs": [],
   "source": [
    "up_vehicle_data = pd.read_parquet(path='../data/up_vehicle_data.parquet')"
   ]
  },
  {
   "cell_type": "code",
   "execution_count": null,
   "metadata": {},
   "outputs": [],
   "source": [
    "selected_columns = [\n",
    "    'loggerno',\n",
    "    'tireid',\n",
    "    'created_at',\n",
    "    'temp_outside',\n",
    "    'tachometer_km',\n",
    "    'speed',\n",
    "    'ts',\n",
    "    'ts_int',\n",
    "    'parameter',\n",
    "    'wheelpos',\n",
    "    'value'\n",
    "]\n",
    "\n",
    "df_task01 = pd.merge(left=up_vehicle_data, right=operational_data, how='inner', on=['loggerno', 'wheelpos'])\n",
    "\n",
    "df_task01.loc[:, selected_columns].to_parquet(path='../data/task01.parquet')"
   ]
  }
 ],
 "metadata": {
  "interpreter": {
   "hash": "89019674b381b52530fe3c3ba80a8d0cb6c8575fcdaeb726f9adff05da2470f6"
  },
  "kernelspec": {
   "display_name": "Python 3.10.4 64-bit ('continental-case-study')",
   "language": "python",
   "name": "python3"
  },
  "language_info": {
   "codemirror_mode": {
    "name": "ipython",
    "version": 3
   },
   "file_extension": ".py",
   "mimetype": "text/x-python",
   "name": "python",
   "nbconvert_exporter": "python",
   "pygments_lexer": "ipython3",
   "version": "3.10.4"
  },
  "orig_nbformat": 4
 },
 "nbformat": 4,
 "nbformat_minor": 2
}
